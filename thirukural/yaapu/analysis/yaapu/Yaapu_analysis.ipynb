{
 "cells": [
  {
   "cell_type": "code",
   "execution_count": 1,
   "metadata": {},
   "outputs": [],
   "source": [
    "import numpy as np\n",
    "import pandas as pd\n",
    "from kural import Thirukkural\n",
    "from tamil.utf8 import *\n",
    "from asai import Seer\n",
    "from utils import *"
   ]
  },
  {
   "cell_type": "code",
   "execution_count": 2,
   "metadata": {},
   "outputs": [],
   "source": [
    "kural = Thirukkural()"
   ]
  },
  {
   "cell_type": "code",
   "execution_count": 3,
   "metadata": {},
   "outputs": [],
   "source": [
    "val = kural.get_kural_no(4).ta"
   ]
  },
  {
   "cell_type": "code",
   "execution_count": 4,
   "metadata": {},
   "outputs": [
    {
     "name": "stdout",
     "output_type": "stream",
     "text": [
      "வேண்டுதல் வேண்டாமை இலானடி சேர்ந்தார்க்கு\n",
      "  யாண்டும் இடும்பை இல.\n"
     ]
    }
   ],
   "source": [
    "print(val)"
   ]
  },
  {
   "cell_type": "code",
   "execution_count": 5,
   "metadata": {},
   "outputs": [
    {
     "data": {
      "text/plain": [
       "([['நேர்நிரை', 'நேர்நேர்நேர்', 'நிரைநிரை', 'நேர்நேர்நேர்'],\n",
       "  ['நேர்நேர்', 'நிரைநேர்', 'நிரை']],\n",
       " [['கூவிளம்', 'தேமாங்காய்', 'கருவிளம்', 'தேமாங்காய்'],\n",
       "  ['தேமா', 'புளிமா', 'நிரை']])"
      ]
     },
     "execution_count": 5,
     "metadata": {},
     "output_type": "execute_result"
    }
   ],
   "source": [
    "a = Seer(val)\n",
    "a.get_seer_pattern()"
   ]
  }
 ],
 "metadata": {
  "kernelspec": {
   "display_name": "Python 3",
   "language": "python",
   "name": "python3"
  },
  "language_info": {
   "codemirror_mode": {
    "name": "ipython",
    "version": 3
   },
   "file_extension": ".py",
   "mimetype": "text/x-python",
   "name": "python",
   "nbconvert_exporter": "python",
   "pygments_lexer": "ipython3",
   "version": "3.7.4"
  }
 },
 "nbformat": 4,
 "nbformat_minor": 2
}
