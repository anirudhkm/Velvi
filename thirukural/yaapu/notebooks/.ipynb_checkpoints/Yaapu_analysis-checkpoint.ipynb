{
 "cells": [
  {
   "cell_type": "code",
   "execution_count": 108,
   "metadata": {},
   "outputs": [],
   "source": [
    "import numpy as np\n",
    "import pandas as pd\n",
    "from kural import Thirukkural\n",
    "from tamil.utf8 import *"
   ]
  },
  {
   "cell_type": "code",
   "execution_count": 109,
   "metadata": {},
   "outputs": [],
   "source": [
    "kural = Thirukkural()"
   ]
  },
  {
   "cell_type": "code",
   "execution_count": 110,
   "metadata": {},
   "outputs": [
    {
     "data": {
      "text/plain": [
       "'அகர முதல எழுத்தெல்லாம் ஆதி\\n  பகவன் முதற்றே உலகு.'"
      ]
     },
     "execution_count": 110,
     "metadata": {},
     "output_type": "execute_result"
    }
   ],
   "source": [
    "val = kural.get_kural_no(1).ta\n",
    "val"
   ]
  },
  {
   "cell_type": "code",
   "execution_count": 111,
   "metadata": {},
   "outputs": [],
   "source": [
    "def split_kural(val):\n",
    "    \n",
    "    val = val.replace(\".\", \"\").split(\"\\n\")\n",
    "    val[0] = val[0].strip().split(\" \")\n",
    "    val[1] = val[1].strip().split(\" \")\n",
    "    return val    "
   ]
  },
  {
   "cell_type": "code",
   "execution_count": 112,
   "metadata": {},
   "outputs": [
    {
     "data": {
      "text/plain": [
       "[['அகர', 'முதல', 'எழுத்தெல்லாம்', 'ஆதி'], ['பகவன்', 'முதற்றே', 'உலகு']]"
      ]
     },
     "execution_count": 112,
     "metadata": {},
     "output_type": "execute_result"
    }
   ],
   "source": [
    "val = split_kural(val)\n",
    "val"
   ]
  },
  {
   "cell_type": "code",
   "execution_count": 60,
   "metadata": {},
   "outputs": [
    {
     "data": {
      "text/plain": [
       "['__name__',\n",
       " '__doc__',\n",
       " '__package__',\n",
       " '__loader__',\n",
       " '__spec__',\n",
       " '__file__',\n",
       " '__cached__',\n",
       " '__builtins__',\n",
       " 'abc',\n",
       " 'operator',\n",
       " 're',\n",
       " 'string',\n",
       " 'copy',\n",
       " 'version',\n",
       " 'PYTHON3',\n",
       " 'functools',\n",
       " 'TA_ACCENT_LEN',\n",
       " 'TA_AYUDHA_LEN',\n",
       " 'TA_UYIR_LEN',\n",
       " 'TA_MEI_LEN',\n",
       " 'TA_AGARAM_LEN',\n",
       " 'TA_SANSKRIT_LEN',\n",
       " 'TA_UYIRMEI_LEN',\n",
       " 'TA_GRANTHA_UYIRMEI_LEN',\n",
       " 'TA_LETTERS_LEN',\n",
       " 'to_unicode_repr',\n",
       " 'letters_to_py',\n",
       " 'uyir_letters',\n",
       " 'vowel_a',\n",
       " 'vowel_aa',\n",
       " 'vowel_i',\n",
       " 'vowel_ii',\n",
       " 'vowel_u',\n",
       " 'vowel_uu',\n",
       " 'vowel_e',\n",
       " 'vowel_ee',\n",
       " 'vowel_ai',\n",
       " 'vowel_o',\n",
       " 'vowel_oo',\n",
       " 'vowel_au',\n",
       " 'aytham_letter',\n",
       " 'ayudha_letter',\n",
       " 'kuril_letters',\n",
       " 'nedil_letters',\n",
       " 'dipthong_letters',\n",
       " 'pronoun_letters',\n",
       " 'suttezhuththu',\n",
       " 'questionsuffix_letters',\n",
       " 'vinaaezhuththu',\n",
       " 'vallinam_letters',\n",
       " 'mellinam_letters',\n",
       " 'idayinam_letters',\n",
       " 'mei_letters',\n",
       " 'accent_symbols',\n",
       " 'accent_aa',\n",
       " 'accent_i',\n",
       " 'accent_u',\n",
       " 'accent_uu',\n",
       " 'accent_e',\n",
       " 'accent_ee',\n",
       " 'accent_ai',\n",
       " 'accent_o',\n",
       " 'accent_oo',\n",
       " 'accent_au',\n",
       " 'pulli_symbols',\n",
       " 'agaram_letters',\n",
       " 'mayangoli_letters',\n",
       " 'consonant_ka',\n",
       " 'consonant_nga',\n",
       " 'consonant_ca',\n",
       " 'consonant_ja',\n",
       " 'consonant_nya',\n",
       " 'consonant_tta',\n",
       " 'consonant_nna',\n",
       " 'consonant_nnna',\n",
       " 'consonant_ta',\n",
       " 'consonant_tha',\n",
       " 'consonant_na',\n",
       " 'consonant_pa',\n",
       " 'consonant_ma',\n",
       " 'consonant_ya',\n",
       " 'consonant_ra',\n",
       " 'consonant_rra',\n",
       " 'consonant_la',\n",
       " 'consonant_lla',\n",
       " 'consonant_llla',\n",
       " 'consonant_zha',\n",
       " 'consonant_va',\n",
       " 'sanskrit_letters',\n",
       " 'sanskrit_mei_letters',\n",
       " 'grantha_mei_letters',\n",
       " 'grantha_agaram_letters',\n",
       " 'uyirmei_letters',\n",
       " 'tamil247',\n",
       " 'tamil_digit_1to10',\n",
       " 'tamil_digit_100',\n",
       " 'tamil_digit_1000',\n",
       " 'tamil_digits',\n",
       " '_day',\n",
       " '_month',\n",
       " '_year',\n",
       " '_debit',\n",
       " '_credit',\n",
       " '_rupee',\n",
       " '_numeral',\n",
       " '_sri',\n",
       " '_ksha',\n",
       " '_ksh',\n",
       " '_indian_rupee',\n",
       " 'tamil_symbols',\n",
       " 'tamil_letters',\n",
       " 'grantha_uyirmei_letters',\n",
       " 'accent_len',\n",
       " 'ayudha_len',\n",
       " 'uyir_len',\n",
       " 'mei_len',\n",
       " 'agaram_len',\n",
       " 'uyirmei_len',\n",
       " 'tamil_len',\n",
       " 'uyir',\n",
       " 'agaram',\n",
       " 'mei',\n",
       " 'uyirmei',\n",
       " 'mei_to_agaram',\n",
       " 'uyirmei_constructed',\n",
       " 'tamil',\n",
       " 'getidx',\n",
       " 'istamil_prefix',\n",
       " 'is_tamil_unicode_value',\n",
       " 'is_tamil_unicode_codept',\n",
       " 'is_tamil_unicode_predicate',\n",
       " 'is_tamil_unicode',\n",
       " 'has_english',\n",
       " 'all_tamil',\n",
       " 'has_tamil',\n",
       " 'istamil',\n",
       " 'istamil_alnum',\n",
       " 'reverse_word',\n",
       " 'is_normalized',\n",
       " '_make_set',\n",
       " 'grantha_agaram_set',\n",
       " 'accent_symbol_set',\n",
       " 'uyir_letter_set',\n",
       " '_GLL',\n",
       " 'lru_cache',\n",
       " 'copy_lru_decorator',\n",
       " 'get_letters',\n",
       " '_all_symbols',\n",
       " 'all_symbol_set',\n",
       " 'get_letters_length',\n",
       " 'get_letters_iterable',\n",
       " 'grantha_uyirmei_splits',\n",
       " '_uyir_idx',\n",
       " '_mei_idx',\n",
       " '_mei',\n",
       " '_uyirmei',\n",
       " 'join_letters_elementary',\n",
       " 'get_letters_elementary_iterable',\n",
       " 'get_letters_elementary',\n",
       " 'get_words',\n",
       " 'get_words_iterable',\n",
       " 'get_tamil_words',\n",
       " 'cmp',\n",
       " 'compare_words_lexicographic',\n",
       " 'word_intersection',\n",
       " 'unicode_normalize',\n",
       " 'splitMeiUyir',\n",
       " 'joinMeiUyir',\n",
       " 'classify_letter',\n",
       " 'print_tamil_words',\n",
       " 'compare_lexicograph_key',\n",
       " 'tamil_sorted',\n",
       " 'hex2unicode',\n",
       " 'unicode2hex',\n",
       " 'shorten',\n",
       " 'CacheGetLettersMixin',\n",
       " 'vantrodar_ugaram',\n",
       " 'uyir_mei_kuril',\n",
       " 'uyir_mei_nedil',\n",
       " 'calculate_uyir_nedil_kuril_maathirai',\n",
       " 'calculate_maththirai',\n",
       " 'total_maaththirai']"
      ]
     },
     "execution_count": 60,
     "metadata": {},
     "output_type": "execute_result"
    }
   ],
   "source": [
    "tamil.utf8.__dir__()"
   ]
  },
  {
   "cell_type": "code",
   "execution_count": 98,
   "metadata": {},
   "outputs": [
    {
     "name": "stdout",
     "output_type": "stream",
     "text": [
      "[1, 1, 0.5]\n"
     ]
    },
    {
     "data": {
      "text/plain": [
       "2.5"
      ]
     },
     "execution_count": 98,
     "metadata": {},
     "output_type": "execute_result"
    }
   ],
   "source": [
    "total_maaththirai((val[-1][-1]))"
   ]
  },
  {
   "cell_type": "code",
   "execution_count": 91,
   "metadata": {},
   "outputs": [
    {
     "data": {
      "text/plain": [
       "['எ', 'ழு', 'த்', 'தெ', 'ல்', 'லா', 'ம்']"
      ]
     },
     "execution_count": 91,
     "metadata": {},
     "output_type": "execute_result"
    }
   ],
   "source": [
    "get_letters(val[0][2])"
   ]
  },
  {
   "cell_type": "code",
   "execution_count": 64,
   "metadata": {},
   "outputs": [
    {
     "data": {
      "text/plain": [
       "['அ', 'ஆ', 'இ', 'ஈ', 'உ', 'ஊ', 'எ', 'ஏ', 'ஐ', 'ஒ', 'ஓ', 'ஔ']"
      ]
     },
     "execution_count": 64,
     "metadata": {},
     "output_type": "execute_result"
    }
   ],
   "source": [
    "uyir_letters"
   ]
  },
  {
   "cell_type": "code",
   "execution_count": 66,
   "metadata": {},
   "outputs": [
    {
     "data": {
      "text/plain": [
       "['அ', 'இ', 'உ', 'எ', 'ஒ']"
      ]
     },
     "execution_count": 66,
     "metadata": {},
     "output_type": "execute_result"
    }
   ],
   "source": [
    "kuril_letters"
   ]
  },
  {
   "cell_type": "code",
   "execution_count": 89,
   "metadata": {},
   "outputs": [
    {
     "data": {
      "text/plain": [
       "['க்',\n",
       " 'ச்',\n",
       " 'ட்',\n",
       " 'த்',\n",
       " 'ப்',\n",
       " 'ற்',\n",
       " 'ஞ்',\n",
       " 'ங்',\n",
       " 'ண்',\n",
       " 'ந்',\n",
       " 'ம்',\n",
       " 'ன்',\n",
       " 'ய்',\n",
       " 'ர்',\n",
       " 'ல்',\n",
       " 'வ்',\n",
       " 'ழ்',\n",
       " 'ள்']"
      ]
     },
     "execution_count": 89,
     "metadata": {},
     "output_type": "execute_result"
    }
   ],
   "source": [
    "mei_letters"
   ]
  },
  {
   "cell_type": "code",
   "execution_count": 113,
   "metadata": {},
   "outputs": [
    {
     "name": "stdout",
     "output_type": "stream",
     "text": [
      "['கா', 'கீ', 'கூ', 'கே', 'கோ', 'சா', 'சீ', 'சூ', 'சே', 'சோ', 'டா', 'டீ', 'டூ', 'டே', 'டோ', 'தா', 'தீ', 'தூ', 'தே', 'தோ', 'பா', 'பீ', 'பூ', 'பே', 'போ', 'றா', 'றீ', 'றூ', 'றே', 'றோ', 'ஞா', 'ஞீ', 'ஞூ', 'ஞே', 'ஞோ', 'ஙா', 'ஙீ', 'ஙூ', 'ஙே', 'ஙோ', 'ணா', 'ணீ', 'ணூ', 'ணே', 'ணோ', 'நா', 'நீ', 'நூ', 'நே', 'நோ', 'மா', 'மீ', 'மூ', 'மே', 'மோ', 'னா', 'னீ', 'னூ', 'னே', 'னோ', 'யா', 'யீ', 'யூ', 'யே', 'யோ', 'ரா', 'ரீ', 'ரூ', 'ரே', 'ரோ', 'லா', 'லீ', 'லூ', 'லே', 'லோ', 'வா', 'வீ', 'வூ', 'வே', 'வோ', 'ழா', 'ழீ', 'ழூ', 'ழே', 'ழோ', 'ளா', 'ளீ', 'ளூ', 'ளே', 'ளோ']\n"
     ]
    }
   ],
   "source": [
    "print(uyir_mei_nedil)"
   ]
  },
  {
   "cell_type": "code",
   "execution_count": 114,
   "metadata": {},
   "outputs": [
    {
     "name": "stdout",
     "output_type": "stream",
     "text": [
      "['க', 'கி', 'கு', 'கெ', 'கொ', 'கௌ', 'ச', 'சி', 'சு', 'செ', 'சொ', 'சௌ', 'ட', 'டி', 'டு', 'டெ', 'டொ', 'டௌ', 'த', 'தி', 'து', 'தெ', 'தொ', 'தௌ', 'ப', 'பி', 'பு', 'பெ', 'பொ', 'பௌ', 'ற', 'றி', 'று', 'றெ', 'றொ', 'றௌ', 'ஞ', 'ஞி', 'ஞு', 'ஞெ', 'ஞொ', 'ஞௌ', 'ங', 'ஙி', 'ஙு', 'ஙெ', 'ஙொ', 'ஙௌ', 'ண', 'ணி', 'ணு', 'ணெ', 'ணொ', 'ணௌ', 'ந', 'நி', 'நு', 'நெ', 'நொ', 'நௌ', 'ம', 'மி', 'மு', 'மெ', 'மொ', 'மௌ', 'ன', 'னி', 'னு', 'னெ', 'னொ', 'னௌ', 'ய', 'யி', 'யு', 'யெ', 'யொ', 'யௌ', 'ர', 'ரி', 'ரு', 'ரெ', 'ரொ', 'ரௌ', 'ல', 'லி', 'லு', 'லெ', 'லொ', 'லௌ', 'வ', 'வி', 'வு', 'வெ', 'வொ', 'வௌ', 'ழ', 'ழி', 'ழு', 'ழெ', 'ழொ', 'ழௌ', 'ள', 'ளி', 'ளு', 'ளெ', 'ளொ', 'ளௌ']\n"
     ]
    }
   ],
   "source": [
    "print(uyir_mei_kuril)"
   ]
  }
 ],
 "metadata": {
  "kernelspec": {
   "display_name": "Python 3",
   "language": "python",
   "name": "python3"
  },
  "language_info": {
   "codemirror_mode": {
    "name": "ipython",
    "version": 3
   },
   "file_extension": ".py",
   "mimetype": "text/x-python",
   "name": "python",
   "nbconvert_exporter": "python",
   "pygments_lexer": "ipython3",
   "version": "3.7.4"
  }
 },
 "nbformat": 4,
 "nbformat_minor": 2
}
