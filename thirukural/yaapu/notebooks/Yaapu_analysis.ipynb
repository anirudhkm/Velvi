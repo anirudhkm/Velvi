{
 "cells": [
  {
   "cell_type": "code",
   "execution_count": 108,
   "metadata": {},
   "outputs": [],
   "source": [
    "import numpy as np\n",
    "import pandas as pd\n",
    "from kural import Thirukkural\n",
    "from tamil.utf8 import *"
   ]
  },
  {
   "cell_type": "code",
   "execution_count": 109,
   "metadata": {},
   "outputs": [],
   "source": [
    "kural = Thirukkural()"
   ]
  },
  {
   "cell_type": "code",
   "execution_count": 258,
   "metadata": {},
   "outputs": [
    {
     "data": {
      "text/plain": [
       "'அந்தணர் என்போர் அறவோர்மற் றெவ்வுயிர்க்கும்\\n  செந்தண்மை பூண்டொழுக லான்.'"
      ]
     },
     "execution_count": 258,
     "metadata": {},
     "output_type": "execute_result"
    }
   ],
   "source": [
    "val = kural.get_kural_no(30).ta\n",
    "val"
   ]
  },
  {
   "cell_type": "code",
   "execution_count": 259,
   "metadata": {},
   "outputs": [],
   "source": [
    "def split_kural(val):\n",
    "    \n",
    "    val = val.replace(\".\", \"\").split(\"\\n\")\n",
    "    val[0] = val[0].strip().split(\" \")\n",
    "    val[1] = val[1].strip().split(\" \")\n",
    "    return val    "
   ]
  },
  {
   "cell_type": "code",
   "execution_count": 260,
   "metadata": {},
   "outputs": [
    {
     "data": {
      "text/plain": [
       "[['அந்தணர்', 'என்போர்', 'அறவோர்மற்', 'றெவ்வுயிர்க்கும்'],\n",
       " ['செந்தண்மை', 'பூண்டொழுக', 'லான்']]"
      ]
     },
     "execution_count": 260,
     "metadata": {},
     "output_type": "execute_result"
    }
   ],
   "source": [
    "val = split_kural(val)\n",
    "val"
   ]
  },
  {
   "cell_type": "code",
   "execution_count": 261,
   "metadata": {},
   "outputs": [],
   "source": [
    "def is_nedil(char):\n",
    "    \n",
    "    ai = ['கை', 'சை', 'டை', 'தை', 'பை', 'றை', 'ஞை', 'ஙை', 'ணை', 'நை',\n",
    "          'மை', 'னை', 'யை', 'ரை', 'லை', 'வை', 'ழை', 'ளை']\n",
    "    if char in nedil_letters or char in uyir_mei_nedil or char in ai:\n",
    "        return True\n",
    "    return False\n",
    "\n",
    "def is_kuril(char):\n",
    "    \n",
    "    if char in kuril_letters or char in uyir_mei_kuril:\n",
    "        return True\n",
    "    return False\n",
    "\n",
    "def is_ottru(char):\n",
    "    \n",
    "    if char in mei_letters:\n",
    "        return True\n",
    "    return False\n"
   ]
  },
  {
   "cell_type": "code",
   "execution_count": 262,
   "metadata": {},
   "outputs": [
    {
     "data": {
      "text/plain": [
       "['அ', 'ற', 'வோ', 'ர்', 'ம', 'ற்']"
      ]
     },
     "execution_count": 262,
     "metadata": {},
     "output_type": "execute_result"
    }
   ],
   "source": [
    "word = val[0][2]\n",
    "word_lst = get_letters(word)\n",
    "word_lst"
   ]
  },
  {
   "cell_type": "code",
   "execution_count": 263,
   "metadata": {},
   "outputs": [
    {
     "data": {
      "text/plain": [
       "['அ', 'ற', 'வோ', 'ர்', 'ம', 'ற்']"
      ]
     },
     "execution_count": 263,
     "metadata": {},
     "output_type": "execute_result"
    }
   ],
   "source": [
    "word_lst"
   ]
  },
  {
   "cell_type": "code",
   "execution_count": 264,
   "metadata": {},
   "outputs": [],
   "source": [
    "def get_asai_type(word_lst, asai=\"\", i=0):\n",
    "    \n",
    "    if i >= len(word_lst):\n",
    "        return asai\n",
    "    print(word_lst, asai, i)\n",
    "    \n",
    "    if is_ottru(word_lst[i]):\n",
    "        i+=1\n",
    "    \n",
    "    elif i+2 < len(word_lst) and is_kuril(word_lst[i]) and is_nedil(word_lst[i+1]) and is_ottru(word_lst[i+2]):\n",
    "        asai += \"நிரை\"\n",
    "        i = i+3\n",
    "        \n",
    "    elif i+1 < len(word_lst) and is_kuril(word_lst[i]) and is_nedil(word_lst[i+1]):\n",
    "        asai += \"நிரை\"\n",
    "        i = i+2\n",
    "    \n",
    "    elif i+2 < len(word_lst) and is_kuril(word_lst[i]) and is_kuril(word_lst[i+1]) and is_ottru(word_lst[i+2]):\n",
    "        asai += \"நிரை\"\n",
    "        i = i+3\n",
    "        \n",
    "    elif i+1 < len(word_lst) and is_kuril(word_lst[i]) and is_kuril(word_lst[i+1]):\n",
    "        asai += \"நிரை\"\n",
    "        i = i+2\n",
    "    \n",
    "    elif i+1 < len(word_lst) and is_kuril(word_lst[i]) and is_ottru(word_lst[i+1]):\n",
    "        asai += \"நேர்\"\n",
    "        i = i+2\n",
    "        \n",
    "    elif i+1 < len(word_lst) and is_nedil(word_lst[i]) and is_ottru(word_lst[i+1]):\n",
    "        asai += \"நேர்\"\n",
    "        i = i+2\n",
    "        \n",
    "    elif i < len(word_lst) and (is_nedil(word_lst[i]) or is_kuril(word_lst[i])):\n",
    "        asai += \"நேர்\"\n",
    "        i = i+1\n",
    "    else:\n",
    "        asai += \"error\"\n",
    "        i+=1\n",
    "    return get_asai_type(word_lst, asai, i)"
   ]
  },
  {
   "cell_type": "code",
   "execution_count": 265,
   "metadata": {},
   "outputs": [
    {
     "name": "stdout",
     "output_type": "stream",
     "text": [
      "['அ', 'ற', 'வோ', 'ர்', 'ம', 'ற்']  0\n",
      "['அ', 'ற', 'வோ', 'ர்', 'ம', 'ற்'] நிரை 2\n",
      "['அ', 'ற', 'வோ', 'ர்', 'ம', 'ற்'] நிரைநேர் 4\n"
     ]
    },
    {
     "data": {
      "text/plain": [
       "'நிரைநேர்நேர்'"
      ]
     },
     "execution_count": 265,
     "metadata": {},
     "output_type": "execute_result"
    }
   ],
   "source": [
    "get_asai_type(word_lst)"
   ]
  },
  {
   "cell_type": "code",
   "execution_count": 266,
   "metadata": {},
   "outputs": [
    {
     "data": {
      "text/plain": [
       "['செந்தண்மை', 'பூண்டொழுக', 'லான்']"
      ]
     },
     "execution_count": 266,
     "metadata": {},
     "output_type": "execute_result"
    }
   ],
   "source": [
    "val[1]"
   ]
  },
  {
   "cell_type": "code",
   "execution_count": 268,
   "metadata": {},
   "outputs": [
    {
     "name": "stdout",
     "output_type": "stream",
     "text": [
      "['அ', 'ந்', 'த', 'ண', 'ர்']\n",
      "['அ', 'ந்', 'த', 'ண', 'ர்']  0\n",
      "['அ', 'ந்', 'த', 'ண', 'ர்'] நேர் 2\n",
      "அந்தணர் : நேர்நிரை\n",
      "['எ', 'ன்', 'போ', 'ர்']\n",
      "['எ', 'ன்', 'போ', 'ர்']  0\n",
      "['எ', 'ன்', 'போ', 'ர்'] நேர் 2\n",
      "என்போர் : நேர்நேர்\n",
      "['அ', 'ற', 'வோ', 'ர்', 'ம', 'ற்']\n",
      "['அ', 'ற', 'வோ', 'ர்', 'ம', 'ற்']  0\n",
      "['அ', 'ற', 'வோ', 'ர்', 'ம', 'ற்'] நிரை 2\n",
      "['அ', 'ற', 'வோ', 'ர்', 'ம', 'ற்'] நிரைநேர் 4\n",
      "அறவோர்மற் : நிரைநேர்நேர்\n",
      "['றெ', 'வ்', 'வு', 'யி', 'ர்', 'க்', 'கு', 'ம்']\n",
      "['றெ', 'வ்', 'வு', 'யி', 'ர்', 'க்', 'கு', 'ம்']  0\n",
      "['றெ', 'வ்', 'வு', 'யி', 'ர்', 'க்', 'கு', 'ம்'] நேர் 2\n",
      "['றெ', 'வ்', 'வு', 'யி', 'ர்', 'க்', 'கு', 'ம்'] நேர்நிரை 5\n",
      "['றெ', 'வ்', 'வு', 'யி', 'ர்', 'க்', 'கு', 'ம்'] நேர்நிரை 6\n",
      "றெவ்வுயிர்க்கும் : நேர்நிரைநேர்\n"
     ]
    }
   ],
   "source": [
    "for word in val[0]:\n",
    "    word_lst = get_letters(word)\n",
    "    print(word_lst)\n",
    "    asai = get_asai_type(word_lst)\n",
    "    print(word,\":\", asai)"
   ]
  },
  {
   "cell_type": "code",
   "execution_count": null,
   "metadata": {},
   "outputs": [],
   "source": []
  },
  {
   "cell_type": "code",
   "execution_count": null,
   "metadata": {},
   "outputs": [],
   "source": []
  },
  {
   "cell_type": "code",
   "execution_count": null,
   "metadata": {},
   "outputs": [],
   "source": []
  },
  {
   "cell_type": "code",
   "execution_count": null,
   "metadata": {},
   "outputs": [],
   "source": []
  },
  {
   "cell_type": "code",
   "execution_count": null,
   "metadata": {},
   "outputs": [],
   "source": []
  }
 ],
 "metadata": {
  "kernelspec": {
   "display_name": "Python 3",
   "language": "python",
   "name": "python3"
  },
  "language_info": {
   "codemirror_mode": {
    "name": "ipython",
    "version": 3
   },
   "file_extension": ".py",
   "mimetype": "text/x-python",
   "name": "python",
   "nbconvert_exporter": "python",
   "pygments_lexer": "ipython3",
   "version": "3.7.4"
  }
 },
 "nbformat": 4,
 "nbformat_minor": 2
}
